{
 "cells": [
  {
   "cell_type": "raw",
   "id": "33dd6c4c",
   "metadata": {},
   "source": [
    "---\n",
    "title: ENTER YOUR TITLE HERE - Project Code\n",
    "subtitle: Project Report for STAT 303-1 Fall 2024\n",
    "author: ENTER YOUR NAMES HERE\n",
    "date: ENTER DATE HERE\n",
    "abstract: _This file contains the code for the project_.\n",
    "format: \n",
    "  html:\n",
    "    toc: true\n",
    "    toc-title: Contents\n",
    "    embed-resources: true\n",
    "    font-size: 100%\n",
    "    toc-depth: 4\n",
    "    mainfont: serif\n",
    "jupyter: python3\n",
    "---"
   ]
  },
  {
   "cell_type": "markdown",
   "id": "aba5ee91",
   "metadata": {
    "jp-MarkdownHeadingCollapsed": true
   },
   "source": [
    "**Rules for the code:**\n",
    "\n",
    "- Include all the code you used for your report in this file. The code for any section in the report should go under the same section in this file.\n",
    "- Any missing code will result in -20% from its corresponding section in the report.\n",
    "- Any irrelevant code will result in -20% from its corresponding section in the report.\n",
    "- Make sure that you run your code before rendering, so all the necessary visual/numeric outputs are visible.\n",
    "- Any code that is not properly run or throws errors will be considered missing/irrelevant."
   ]
  },
  {
   "cell_type": "markdown",
   "id": "b23e3332-0dec-486e-9017-dcdec4bf9541",
   "metadata": {},
   "source": [
    "## 3) Data"
   ]
  },
  {
   "cell_type": "code",
   "execution_count": 32,
   "id": "44b39119-71c5-4391-a6e8-5f25c4567e7a",
   "metadata": {},
   "outputs": [],
   "source": [
    "import numpy as np\n",
    "import pandas as pd\n",
    "import seaborn as sns\n",
    "import matplotlib.pyplot as plt"
   ]
  },
  {
   "cell_type": "code",
   "execution_count": 33,
   "id": "f0c4fc1a-0724-4aca-9c1c-6d06f8395d37",
   "metadata": {},
   "outputs": [
    {
     "data": {
      "text/html": [
       "<div>\n",
       "<style scoped>\n",
       "    .dataframe tbody tr th:only-of-type {\n",
       "        vertical-align: middle;\n",
       "    }\n",
       "\n",
       "    .dataframe tbody tr th {\n",
       "        vertical-align: top;\n",
       "    }\n",
       "\n",
       "    .dataframe thead th {\n",
       "        text-align: right;\n",
       "    }\n",
       "</style>\n",
       "<table border=\"1\" class=\"dataframe\">\n",
       "  <thead>\n",
       "    <tr style=\"text-align: right;\">\n",
       "      <th></th>\n",
       "      <th>Hours_Studied</th>\n",
       "      <th>Attendance</th>\n",
       "      <th>Parental_Involvement</th>\n",
       "      <th>Access_to_Resources</th>\n",
       "      <th>Extracurricular_Activities</th>\n",
       "      <th>Sleep_Hours</th>\n",
       "      <th>Previous_Scores</th>\n",
       "      <th>Motivation_Level</th>\n",
       "      <th>Internet_Access</th>\n",
       "      <th>Tutoring_Sessions</th>\n",
       "      <th>Family_Income</th>\n",
       "      <th>Teacher_Quality</th>\n",
       "      <th>School_Type</th>\n",
       "      <th>Peer_Influence</th>\n",
       "      <th>Physical_Activity</th>\n",
       "      <th>Learning_Disabilities</th>\n",
       "      <th>Parental_Education_Level</th>\n",
       "      <th>Distance_from_Home</th>\n",
       "      <th>Gender</th>\n",
       "      <th>Exam_Score</th>\n",
       "    </tr>\n",
       "  </thead>\n",
       "  <tbody>\n",
       "    <tr>\n",
       "      <th>0</th>\n",
       "      <td>23</td>\n",
       "      <td>84</td>\n",
       "      <td>Low</td>\n",
       "      <td>High</td>\n",
       "      <td>No</td>\n",
       "      <td>7</td>\n",
       "      <td>73</td>\n",
       "      <td>Low</td>\n",
       "      <td>Yes</td>\n",
       "      <td>0</td>\n",
       "      <td>Low</td>\n",
       "      <td>Medium</td>\n",
       "      <td>Public</td>\n",
       "      <td>Positive</td>\n",
       "      <td>3</td>\n",
       "      <td>No</td>\n",
       "      <td>High School</td>\n",
       "      <td>Near</td>\n",
       "      <td>Male</td>\n",
       "      <td>67</td>\n",
       "    </tr>\n",
       "    <tr>\n",
       "      <th>1</th>\n",
       "      <td>19</td>\n",
       "      <td>64</td>\n",
       "      <td>Low</td>\n",
       "      <td>Medium</td>\n",
       "      <td>No</td>\n",
       "      <td>8</td>\n",
       "      <td>59</td>\n",
       "      <td>Low</td>\n",
       "      <td>Yes</td>\n",
       "      <td>2</td>\n",
       "      <td>Medium</td>\n",
       "      <td>Medium</td>\n",
       "      <td>Public</td>\n",
       "      <td>Negative</td>\n",
       "      <td>4</td>\n",
       "      <td>No</td>\n",
       "      <td>College</td>\n",
       "      <td>Moderate</td>\n",
       "      <td>Female</td>\n",
       "      <td>61</td>\n",
       "    </tr>\n",
       "    <tr>\n",
       "      <th>2</th>\n",
       "      <td>24</td>\n",
       "      <td>98</td>\n",
       "      <td>Medium</td>\n",
       "      <td>Medium</td>\n",
       "      <td>Yes</td>\n",
       "      <td>7</td>\n",
       "      <td>91</td>\n",
       "      <td>Medium</td>\n",
       "      <td>Yes</td>\n",
       "      <td>2</td>\n",
       "      <td>Medium</td>\n",
       "      <td>Medium</td>\n",
       "      <td>Public</td>\n",
       "      <td>Neutral</td>\n",
       "      <td>4</td>\n",
       "      <td>No</td>\n",
       "      <td>Postgraduate</td>\n",
       "      <td>Near</td>\n",
       "      <td>Male</td>\n",
       "      <td>74</td>\n",
       "    </tr>\n",
       "    <tr>\n",
       "      <th>3</th>\n",
       "      <td>29</td>\n",
       "      <td>89</td>\n",
       "      <td>Low</td>\n",
       "      <td>Medium</td>\n",
       "      <td>Yes</td>\n",
       "      <td>8</td>\n",
       "      <td>98</td>\n",
       "      <td>Medium</td>\n",
       "      <td>Yes</td>\n",
       "      <td>1</td>\n",
       "      <td>Medium</td>\n",
       "      <td>Medium</td>\n",
       "      <td>Public</td>\n",
       "      <td>Negative</td>\n",
       "      <td>4</td>\n",
       "      <td>No</td>\n",
       "      <td>High School</td>\n",
       "      <td>Moderate</td>\n",
       "      <td>Male</td>\n",
       "      <td>71</td>\n",
       "    </tr>\n",
       "    <tr>\n",
       "      <th>4</th>\n",
       "      <td>19</td>\n",
       "      <td>92</td>\n",
       "      <td>Medium</td>\n",
       "      <td>Medium</td>\n",
       "      <td>Yes</td>\n",
       "      <td>6</td>\n",
       "      <td>65</td>\n",
       "      <td>Medium</td>\n",
       "      <td>Yes</td>\n",
       "      <td>3</td>\n",
       "      <td>Medium</td>\n",
       "      <td>High</td>\n",
       "      <td>Public</td>\n",
       "      <td>Neutral</td>\n",
       "      <td>4</td>\n",
       "      <td>No</td>\n",
       "      <td>College</td>\n",
       "      <td>Near</td>\n",
       "      <td>Female</td>\n",
       "      <td>70</td>\n",
       "    </tr>\n",
       "    <tr>\n",
       "      <th>...</th>\n",
       "      <td>...</td>\n",
       "      <td>...</td>\n",
       "      <td>...</td>\n",
       "      <td>...</td>\n",
       "      <td>...</td>\n",
       "      <td>...</td>\n",
       "      <td>...</td>\n",
       "      <td>...</td>\n",
       "      <td>...</td>\n",
       "      <td>...</td>\n",
       "      <td>...</td>\n",
       "      <td>...</td>\n",
       "      <td>...</td>\n",
       "      <td>...</td>\n",
       "      <td>...</td>\n",
       "      <td>...</td>\n",
       "      <td>...</td>\n",
       "      <td>...</td>\n",
       "      <td>...</td>\n",
       "      <td>...</td>\n",
       "    </tr>\n",
       "    <tr>\n",
       "      <th>6602</th>\n",
       "      <td>25</td>\n",
       "      <td>69</td>\n",
       "      <td>High</td>\n",
       "      <td>Medium</td>\n",
       "      <td>No</td>\n",
       "      <td>7</td>\n",
       "      <td>76</td>\n",
       "      <td>Medium</td>\n",
       "      <td>Yes</td>\n",
       "      <td>1</td>\n",
       "      <td>High</td>\n",
       "      <td>Medium</td>\n",
       "      <td>Public</td>\n",
       "      <td>Positive</td>\n",
       "      <td>2</td>\n",
       "      <td>No</td>\n",
       "      <td>High School</td>\n",
       "      <td>Near</td>\n",
       "      <td>Female</td>\n",
       "      <td>68</td>\n",
       "    </tr>\n",
       "    <tr>\n",
       "      <th>6603</th>\n",
       "      <td>23</td>\n",
       "      <td>76</td>\n",
       "      <td>High</td>\n",
       "      <td>Medium</td>\n",
       "      <td>No</td>\n",
       "      <td>8</td>\n",
       "      <td>81</td>\n",
       "      <td>Medium</td>\n",
       "      <td>Yes</td>\n",
       "      <td>3</td>\n",
       "      <td>Low</td>\n",
       "      <td>High</td>\n",
       "      <td>Public</td>\n",
       "      <td>Positive</td>\n",
       "      <td>2</td>\n",
       "      <td>No</td>\n",
       "      <td>High School</td>\n",
       "      <td>Near</td>\n",
       "      <td>Female</td>\n",
       "      <td>69</td>\n",
       "    </tr>\n",
       "    <tr>\n",
       "      <th>6604</th>\n",
       "      <td>20</td>\n",
       "      <td>90</td>\n",
       "      <td>Medium</td>\n",
       "      <td>Low</td>\n",
       "      <td>Yes</td>\n",
       "      <td>6</td>\n",
       "      <td>65</td>\n",
       "      <td>Low</td>\n",
       "      <td>Yes</td>\n",
       "      <td>3</td>\n",
       "      <td>Low</td>\n",
       "      <td>Medium</td>\n",
       "      <td>Public</td>\n",
       "      <td>Negative</td>\n",
       "      <td>2</td>\n",
       "      <td>No</td>\n",
       "      <td>Postgraduate</td>\n",
       "      <td>Near</td>\n",
       "      <td>Female</td>\n",
       "      <td>68</td>\n",
       "    </tr>\n",
       "    <tr>\n",
       "      <th>6605</th>\n",
       "      <td>10</td>\n",
       "      <td>86</td>\n",
       "      <td>High</td>\n",
       "      <td>High</td>\n",
       "      <td>Yes</td>\n",
       "      <td>6</td>\n",
       "      <td>91</td>\n",
       "      <td>High</td>\n",
       "      <td>Yes</td>\n",
       "      <td>2</td>\n",
       "      <td>Low</td>\n",
       "      <td>Medium</td>\n",
       "      <td>Private</td>\n",
       "      <td>Positive</td>\n",
       "      <td>3</td>\n",
       "      <td>No</td>\n",
       "      <td>High School</td>\n",
       "      <td>Far</td>\n",
       "      <td>Female</td>\n",
       "      <td>68</td>\n",
       "    </tr>\n",
       "    <tr>\n",
       "      <th>6606</th>\n",
       "      <td>15</td>\n",
       "      <td>67</td>\n",
       "      <td>Medium</td>\n",
       "      <td>Low</td>\n",
       "      <td>Yes</td>\n",
       "      <td>9</td>\n",
       "      <td>94</td>\n",
       "      <td>Medium</td>\n",
       "      <td>Yes</td>\n",
       "      <td>0</td>\n",
       "      <td>Medium</td>\n",
       "      <td>Medium</td>\n",
       "      <td>Public</td>\n",
       "      <td>Positive</td>\n",
       "      <td>4</td>\n",
       "      <td>No</td>\n",
       "      <td>Postgraduate</td>\n",
       "      <td>Near</td>\n",
       "      <td>Male</td>\n",
       "      <td>64</td>\n",
       "    </tr>\n",
       "  </tbody>\n",
       "</table>\n",
       "<p>6607 rows × 20 columns</p>\n",
       "</div>"
      ],
      "text/plain": [
       "      Hours_Studied  Attendance Parental_Involvement Access_to_Resources  \\\n",
       "0                23          84                  Low                High   \n",
       "1                19          64                  Low              Medium   \n",
       "2                24          98               Medium              Medium   \n",
       "3                29          89                  Low              Medium   \n",
       "4                19          92               Medium              Medium   \n",
       "...             ...         ...                  ...                 ...   \n",
       "6602             25          69                 High              Medium   \n",
       "6603             23          76                 High              Medium   \n",
       "6604             20          90               Medium                 Low   \n",
       "6605             10          86                 High                High   \n",
       "6606             15          67               Medium                 Low   \n",
       "\n",
       "     Extracurricular_Activities  Sleep_Hours  Previous_Scores  \\\n",
       "0                            No            7               73   \n",
       "1                            No            8               59   \n",
       "2                           Yes            7               91   \n",
       "3                           Yes            8               98   \n",
       "4                           Yes            6               65   \n",
       "...                         ...          ...              ...   \n",
       "6602                         No            7               76   \n",
       "6603                         No            8               81   \n",
       "6604                        Yes            6               65   \n",
       "6605                        Yes            6               91   \n",
       "6606                        Yes            9               94   \n",
       "\n",
       "     Motivation_Level Internet_Access  Tutoring_Sessions Family_Income  \\\n",
       "0                 Low             Yes                  0           Low   \n",
       "1                 Low             Yes                  2        Medium   \n",
       "2              Medium             Yes                  2        Medium   \n",
       "3              Medium             Yes                  1        Medium   \n",
       "4              Medium             Yes                  3        Medium   \n",
       "...               ...             ...                ...           ...   \n",
       "6602           Medium             Yes                  1          High   \n",
       "6603           Medium             Yes                  3           Low   \n",
       "6604              Low             Yes                  3           Low   \n",
       "6605             High             Yes                  2           Low   \n",
       "6606           Medium             Yes                  0        Medium   \n",
       "\n",
       "     Teacher_Quality School_Type Peer_Influence  Physical_Activity  \\\n",
       "0             Medium      Public       Positive                  3   \n",
       "1             Medium      Public       Negative                  4   \n",
       "2             Medium      Public        Neutral                  4   \n",
       "3             Medium      Public       Negative                  4   \n",
       "4               High      Public        Neutral                  4   \n",
       "...              ...         ...            ...                ...   \n",
       "6602          Medium      Public       Positive                  2   \n",
       "6603            High      Public       Positive                  2   \n",
       "6604          Medium      Public       Negative                  2   \n",
       "6605          Medium     Private       Positive                  3   \n",
       "6606          Medium      Public       Positive                  4   \n",
       "\n",
       "     Learning_Disabilities Parental_Education_Level Distance_from_Home  \\\n",
       "0                       No              High School               Near   \n",
       "1                       No                  College           Moderate   \n",
       "2                       No             Postgraduate               Near   \n",
       "3                       No              High School           Moderate   \n",
       "4                       No                  College               Near   \n",
       "...                    ...                      ...                ...   \n",
       "6602                    No              High School               Near   \n",
       "6603                    No              High School               Near   \n",
       "6604                    No             Postgraduate               Near   \n",
       "6605                    No              High School                Far   \n",
       "6606                    No             Postgraduate               Near   \n",
       "\n",
       "      Gender  Exam_Score  \n",
       "0       Male          67  \n",
       "1     Female          61  \n",
       "2       Male          74  \n",
       "3       Male          71  \n",
       "4     Female          70  \n",
       "...      ...         ...  \n",
       "6602  Female          68  \n",
       "6603  Female          69  \n",
       "6604  Female          68  \n",
       "6605  Female          68  \n",
       "6606    Male          64  \n",
       "\n",
       "[6607 rows x 20 columns]"
      ]
     },
     "execution_count": 33,
     "metadata": {},
     "output_type": "execute_result"
    }
   ],
   "source": [
    "data = pd.read_csv('StudentPerformanceFactors.csv')\n",
    "data"
   ]
  },
  {
   "cell_type": "markdown",
   "id": "f59ba8a5-b0de-4904-828c-214f6fe8e19a",
   "metadata": {},
   "source": [
    "## 5) Data Cleaning "
   ]
  },
  {
   "cell_type": "markdown",
   "id": "174af689-0ab9-4d6c-ac45-fd28301e3ef8",
   "metadata": {},
   "source": [
    "### a) Cleaning 1\n",
    "*By \\<Name of team member>*"
   ]
  },
  {
   "cell_type": "markdown",
   "id": "bc0185b8-e76c-4301-b18d-46a8aa5d9e0a",
   "metadata": {},
   "source": [
    "### b) Cleaning 2\n",
    "*By \\<Name of team member>*"
   ]
  },
  {
   "cell_type": "markdown",
   "id": "9b6ab995-a3a2-4d75-a457-e6541ca0873d",
   "metadata": {},
   "source": [
    "### c) Cleaning 3\n",
    "*By \\<Name of team member>*"
   ]
  },
  {
   "cell_type": "markdown",
   "id": "bf470fd3-d5ea-4b28-9453-2fb9e015f809",
   "metadata": {},
   "source": [
    "### d) Cleaning 4\n",
    "*By \\<Katherine Yang>*"
   ]
  },
  {
   "cell_type": "code",
   "execution_count": 34,
   "id": "e20d0dc3-6bbb-4ff1-8dfd-3ee334a77d7e",
   "metadata": {},
   "outputs": [
    {
     "name": "stdout",
     "output_type": "stream",
     "text": [
      "Hours_Studied                  0\n",
      "Attendance                     0\n",
      "Parental_Involvement           0\n",
      "Access_to_Resources            0\n",
      "Extracurricular_Activities     0\n",
      "Sleep_Hours                    0\n",
      "Previous_Scores                0\n",
      "Motivation_Level               0\n",
      "Internet_Access                0\n",
      "Tutoring_Sessions              0\n",
      "Family_Income                  0\n",
      "Teacher_Quality               78\n",
      "School_Type                    0\n",
      "Peer_Influence                 0\n",
      "Physical_Activity              0\n",
      "Learning_Disabilities          0\n",
      "Parental_Education_Level      90\n",
      "Distance_from_Home            67\n",
      "Gender                         0\n",
      "Exam_Score                     0\n",
      "dtype: int64\n"
     ]
    }
   ],
   "source": [
    "# check for missing values\n",
    "print(data.isnull().sum())"
   ]
  },
  {
   "cell_type": "code",
   "execution_count": 35,
   "id": "ddbb10bb-be33-4676-8c59-4a0b666e7f07",
   "metadata": {},
   "outputs": [
    {
     "name": "stdout",
     "output_type": "stream",
     "text": [
      "104\n"
     ]
    }
   ],
   "source": [
    "# identifying outliers\n",
    "Q1 = data['Exam_Score'].quantile(0.25)\n",
    "Q3 = data['Exam_Score'].quantile(0.75)\n",
    "IQR = Q3 - Q1\n",
    "\n",
    "lower_bound = Q1 - 1.5 * IQR\n",
    "upper_bound = Q3 + 1.5 * IQR\n",
    "\n",
    "outliers = (data['Exam_Score'] < lower_bound) | (data['Exam_Score'] > upper_bound)\n",
    "\n",
    "print(outliers.sum())"
   ]
  },
  {
   "cell_type": "code",
   "execution_count": 36,
   "id": "756436b8-52d1-44ba-b5ea-d144f61361ea",
   "metadata": {},
   "outputs": [
    {
     "data": {
      "text/html": [
       "<div>\n",
       "<style scoped>\n",
       "    .dataframe tbody tr th:only-of-type {\n",
       "        vertical-align: middle;\n",
       "    }\n",
       "\n",
       "    .dataframe tbody tr th {\n",
       "        vertical-align: top;\n",
       "    }\n",
       "\n",
       "    .dataframe thead th {\n",
       "        text-align: right;\n",
       "    }\n",
       "</style>\n",
       "<table border=\"1\" class=\"dataframe\">\n",
       "  <thead>\n",
       "    <tr style=\"text-align: right;\">\n",
       "      <th></th>\n",
       "      <th>Hours_Studied</th>\n",
       "      <th>Attendance</th>\n",
       "      <th>Parental_Involvement</th>\n",
       "      <th>Access_to_Resources</th>\n",
       "      <th>Extracurricular_Activities</th>\n",
       "      <th>Sleep_Hours</th>\n",
       "      <th>Previous_Scores</th>\n",
       "      <th>Motivation_Level</th>\n",
       "      <th>Internet_Access</th>\n",
       "      <th>Tutoring_Sessions</th>\n",
       "      <th>Family_Income</th>\n",
       "      <th>Teacher_Quality</th>\n",
       "      <th>School_Type</th>\n",
       "      <th>Peer_Influence</th>\n",
       "      <th>Physical_Activity</th>\n",
       "      <th>Learning_Disabilities</th>\n",
       "      <th>Parental_Education_Level</th>\n",
       "      <th>Distance_from_Home</th>\n",
       "      <th>Gender</th>\n",
       "      <th>Exam_Score</th>\n",
       "    </tr>\n",
       "  </thead>\n",
       "  <tbody>\n",
       "  </tbody>\n",
       "</table>\n",
       "</div>"
      ],
      "text/plain": [
       "Empty DataFrame\n",
       "Columns: [Hours_Studied, Attendance, Parental_Involvement, Access_to_Resources, Extracurricular_Activities, Sleep_Hours, Previous_Scores, Motivation_Level, Internet_Access, Tutoring_Sessions, Family_Income, Teacher_Quality, School_Type, Peer_Influence, Physical_Activity, Learning_Disabilities, Parental_Education_Level, Distance_from_Home, Gender, Exam_Score]\n",
       "Index: []"
      ]
     },
     "execution_count": 36,
     "metadata": {},
     "output_type": "execute_result"
    }
   ],
   "source": [
    "# Checking for incorrect values in the data\n",
    "data[data['Exam_Score'] < 0]\n",
    "data[(data['Peer_Influence'] != \"Negative\") & (data['Peer_Influence'] != \"Positive\") & (data['Peer_Influence'] != \"Neutral\")]\n",
    "data[(data['Access_to_Resources'] != \"Low\") & (data['Access_to_Resources'] != \"Medium\") & (data['Access_to_Resources'] != \"High\")]\n",
    "data[(data['School_Type'] != \"Private\") & (data['School_Type'] != \"Public\")]\n",
    "data[(data['Gender'] != \"Male\") & (data['Gender'] != \"Female\")]"
   ]
  },
  {
   "cell_type": "markdown",
   "id": "c077e106-b046-4150-9296-0abe3e2d370b",
   "metadata": {},
   "source": [
    "## 6) Data Analysis"
   ]
  },
  {
   "cell_type": "markdown",
   "id": "624d20e9-681c-41b7-b7ab-544c3ad8846f",
   "metadata": {},
   "source": [
    "### a) Analysis 1\n",
    "*By \\<Name of team member>*"
   ]
  },
  {
   "cell_type": "markdown",
   "id": "f20b148d-8a44-4544-9c36-5d7b0daa1970",
   "metadata": {},
   "source": [
    "### b) Analysis 2\n",
    "*By \\<Name of team member>*"
   ]
  },
  {
   "cell_type": "markdown",
   "id": "5bda4569-7dc2-42f1-8ad0-cf95aec3fbce",
   "metadata": {},
   "source": [
    "### c) Analysis 3\n",
    "*By \\<Name of team member>*"
   ]
  },
  {
   "cell_type": "markdown",
   "id": "c8e03f5b-0fd6-4e3b-84ef-a99d9120fd15",
   "metadata": {},
   "source": [
    "### d) Analysis 4\n",
    "*By \\<Katherine Yang>*"
   ]
  },
  {
   "cell_type": "code",
   "execution_count": 37,
   "id": "06df7bbc-e143-4361-8da4-8b31e3106643",
   "metadata": {},
   "outputs": [
    {
     "name": "stdout",
     "output_type": "stream",
     "text": [
      "                                       Correlation        P-Value\n",
      "Peer_Influence_Positive                   1.000000            NaN\n",
      "Exam_Score                                0.081217   3.810652e-11\n",
      "Extracurricular_Activities_Yes            0.023720   5.386633e-02\n",
      "Distance_from_Home_Moderate               0.021028   8.743435e-02\n",
      "Parental_Involvement_High                 0.017175   1.627502e-01\n",
      "Family_Income_High                        0.014374   2.427231e-01\n",
      "Learning_Disabilities_No                  0.013594   2.692478e-01\n",
      "Hours_Studied                             0.011716   3.410249e-01\n",
      "School_Type_Public                        0.011515   3.493477e-01\n",
      "Internet_Access_No                        0.010248   4.049073e-01\n",
      "Parental_Education_Level_Postgraduate     0.009275   4.509977e-01\n",
      "Motivation_Level_Low                      0.006522   5.960694e-01\n",
      "Teacher_Quality_Medium                    0.006200   6.143641e-01\n",
      "Access_to_Resources_Medium                0.006064   6.221259e-01\n",
      "Motivation_Level_High                     0.004916   6.895234e-01\n",
      "Physical_Activity                         0.003730   7.618068e-01\n",
      "Distance_from_Home_Far                    0.003383   7.833678e-01\n",
      "Teacher_Quality_Low                       0.001732   8.880493e-01\n",
      "Access_to_Resources_High                  0.000294   9.809669e-01\n",
      "Gender_Male                               0.000107   9.930682e-01\n",
      "Gender_Female                            -0.000107   9.930682e-01\n",
      "Parental_Education_Level_High School     -0.001149   9.256007e-01\n",
      "Parental_Education_Level_College         -0.004147   7.361163e-01\n",
      "Tutoring_Sessions                        -0.004629   7.067806e-01\n",
      "Family_Income_Medium                     -0.005331   6.648264e-01\n",
      "Family_Income_Low                        -0.006208   6.138919e-01\n",
      "Access_to_Resources_Low                  -0.007935   5.189966e-01\n",
      "Parental_Involvement_Medium              -0.008257   5.021711e-01\n",
      "Teacher_Quality_High                     -0.008396   4.950331e-01\n",
      "Parental_Involvement_Low                 -0.009099   4.596221e-01\n",
      "Motivation_Level_Medium                  -0.009869   4.225151e-01\n",
      "Internet_Access_Yes                      -0.010248   4.049073e-01\n",
      "School_Type_Private                      -0.011515   3.493477e-01\n",
      "Learning_Disabilities_Yes                -0.013594   2.692478e-01\n",
      "Distance_from_Home_Near                  -0.019324   1.162739e-01\n",
      "Sleep_Hours                              -0.019717   1.090337e-01\n",
      "Attendance                               -0.019820   1.072081e-01\n",
      "Previous_Scores                          -0.022795   6.391321e-02\n",
      "Extracurricular_Activities_No            -0.023720   5.386633e-02\n",
      "Peer_Influence_Negative                  -0.418324  2.936363e-278\n",
      "Peer_Influence_Neutral                   -0.655046   0.000000e+00\n"
     ]
    }
   ],
   "source": [
    "from scipy.stats import pearsonr\n",
    "\n",
    "data_ohe = pd.get_dummies(data) \n",
    "correlations = data_ohe.corrwith(data_ohe['Peer_Influence_Positive'])\n",
    "\n",
    "p_values = data_ohe.drop(columns='Peer_Influence_Positive').apply(\n",
    "    lambda col: pearsonr(data_ohe['Peer_Influence_Positive'], col)[1]\n",
    ")\n",
    "\n",
    "# combine correlations and p-values into a single df\n",
    "results_df = pd.DataFrame({'Correlation': correlations, 'P-Value': p_values}).sort_values(by='Correlation', ascending=False)\n",
    "\n",
    "print(results_df)"
   ]
  },
  {
   "cell_type": "code",
   "execution_count": 38,
   "id": "50a77d79-127f-40ca-adaa-fcd5f5d7affb",
   "metadata": {},
   "outputs": [
    {
     "name": "stdout",
     "output_type": "stream",
     "text": [
      "                                       Correlation        P-Value\n",
      "Peer_Influence_Negative                   1.000000            NaN\n",
      "Parental_Education_Level_College          0.032057   9.164227e-03\n",
      "Parental_Involvement_Low                  0.023511   5.600976e-02\n",
      "Gender_Female                             0.017271   1.604094e-01\n",
      "Family_Income_Low                         0.015272   2.145279e-01\n",
      "Teacher_Quality_Medium                    0.013636   2.677705e-01\n",
      "Access_to_Resources_High                  0.012519   3.089485e-01\n",
      "Extracurricular_Activities_Yes            0.011589   3.462746e-01\n",
      "Motivation_Level_Low                      0.010887   3.762785e-01\n",
      "Motivation_Level_High                     0.010348   4.003646e-01\n",
      "Learning_Disabilities_Yes                 0.008686   4.802502e-01\n",
      "Physical_Activity                         0.008167   5.068434e-01\n",
      "Sleep_Hours                               0.007611   5.362145e-01\n",
      "Internet_Access_Yes                       0.007050   5.666789e-01\n",
      "Previous_Scores                           0.005975   6.272606e-01\n",
      "Tutoring_Sessions                         0.003982   7.462283e-01\n",
      "School_Type_Public                        0.001382   9.105597e-01\n",
      "Distance_from_Home_Near                   0.000390   9.747279e-01\n",
      "Access_to_Resources_Low                   0.000327   9.787679e-01\n",
      "Distance_from_Home_Far                   -0.000171   9.889235e-01\n",
      "School_Type_Private                      -0.001382   9.105597e-01\n",
      "Teacher_Quality_High                     -0.002276   8.532539e-01\n",
      "Distance_from_Home_Moderate              -0.002770   8.219139e-01\n",
      "Hours_Studied                            -0.003921   7.499983e-01\n",
      "Family_Income_Medium                     -0.005040   6.821186e-01\n",
      "Internet_Access_No                       -0.007050   5.666789e-01\n",
      "Learning_Disabilities_No                 -0.008686   4.802502e-01\n",
      "Parental_Involvement_High                -0.009584   4.360300e-01\n",
      "Attendance                               -0.009906   4.207930e-01\n",
      "Parental_Involvement_Medium              -0.010206   4.068524e-01\n",
      "Extracurricular_Activities_No            -0.011589   3.462746e-01\n",
      "Access_to_Resources_Medium               -0.011724   3.407015e-01\n",
      "Family_Income_High                       -0.012750   3.000874e-01\n",
      "Parental_Education_Level_Postgraduate    -0.014023   2.544314e-01\n",
      "Parental_Education_Level_High School     -0.016194   1.881284e-01\n",
      "Gender_Male                              -0.017271   1.604094e-01\n",
      "Teacher_Quality_Low                      -0.017344   1.586408e-01\n",
      "Motivation_Level_Medium                  -0.018186   1.393864e-01\n",
      "Exam_Score                               -0.088557   5.553240e-13\n",
      "Peer_Influence_Neutral                   -0.412279  1.504326e-269\n",
      "Peer_Influence_Positive                  -0.418324  2.936363e-278\n"
     ]
    }
   ],
   "source": [
    "correlations = data_ohe.corrwith(data_ohe['Peer_Influence_Negative'])\n",
    "\n",
    "p_values = data_ohe.drop(columns='Peer_Influence_Negative').apply(\n",
    "    lambda col: pearsonr(data_ohe['Peer_Influence_Negative'], col)[1]\n",
    ")\n",
    "\n",
    "# combine correlations and p-values into a single df\n",
    "results_df = pd.DataFrame({'Correlation': correlations, 'P-Value': p_values}).sort_values(by='Correlation', ascending=False)\n",
    "\n",
    "print(results_df)"
   ]
  },
  {
   "cell_type": "code",
   "execution_count": 39,
   "id": "dec3a2ee-1b42-4a19-8e01-5c5529f37e16",
   "metadata": {},
   "outputs": [
    {
     "data": {
      "image/png": "[encoded data removed]",
      "text/plain": [
       "<Figure size 600x400 with 1 Axes>"
      ]
     },
     "metadata": {},
     "output_type": "display_data"
    }
   ],
   "source": [
    "peer_influence_scores = {\n",
    "    'Peer Influence': ['Positive', 'Negative'],\n",
    "    'Average Exam Score': [\n",
    "        data_ohe.loc[data_ohe['Peer_Influence_Positive'] == 1, 'Exam_Score'].mean(),\n",
    "        data_ohe.loc[data_ohe['Peer_Influence_Negative'] == 1, 'Exam_Score'].mean()\n",
    "    ]\n",
    "}\n",
    "\n",
    "plot_data = pd.DataFrame(peer_influence_scores)\n",
    "\n",
    "# Create barplot\n",
    "plt.figure(figsize=(6, 4))\n",
    "sns.barplot(x='Peer Influence', y='Average Exam Score', data=plot_data)\n",
    "\n",
    "# Customize the plot\n",
    "plt.title('Average Exam Score by Peer Influence', fontsize=13)\n",
    "plt.xlabel('Peer Influence', fontsize=12)\n",
    "plt.ylabel('Average Exam Score', fontsize=12)\n",
    "plt.xticks(fontsize=10)\n",
    "plt.yticks(fontsize=10)\n",
    "\n",
    "plt.show()"
   ]
  },
  {
   "cell_type": "code",
   "execution_count": 40,
   "id": "6b6e8d6e-5d15-4530-91c4-86a59433e55a",
   "metadata": {},
   "outputs": [
    {
     "name": "stdout",
     "output_type": "stream",
     "text": [
      "   Peer_Influence_Positive  Peer_Influence_Negative  Exam_Score\n",
      "0                    False                    False   67.197917\n",
      "1                    False                     True   66.564270\n",
      "2                     True                    False   67.623199\n"
     ]
    }
   ],
   "source": [
    "grouped_data = data_ohe.groupby(['Peer_Influence_Positive', 'Peer_Influence_Negative'])['Exam_Score'].mean().reset_index()\n",
    "print(grouped_data)"
   ]
  },
  {
   "cell_type": "code",
   "execution_count": 41,
   "id": "7299c950-6e60-44cc-b477-9cb440390117",
   "metadata": {},
   "outputs": [
    {
     "name": "stdout",
     "output_type": "stream",
     "text": [
      "Peer Influence Positive - 95% CI: [67.47040371493556, 67.77601402577712]\n",
      "Peer Influence Negative - 95% CI: [66.36305374001452, 66.76762890341323]\n"
     ]
    }
   ],
   "source": [
    "# Calculating 95% Confidence Interval\n",
    "def bootstrap_ci(data_ohe):\n",
    "    samples = np.random.choice(data_ohe, size=(1000, len(data_ohe)), replace=True)\n",
    "    \n",
    "    sample_means = samples.mean(axis=1)\n",
    "    \n",
    "    lower_bound = (np.percentile(sample_means, 2.5))\n",
    "    upper_bound = (np.percentile(sample_means, 97.5))\n",
    "    \n",
    "    return lower_bound, upper_bound\n",
    "\n",
    "grouped_data_positive = data_ohe[data_ohe['Peer_Influence_Positive'] == 1]['Exam_Score']\n",
    "grouped_data_negative = data_ohe[data_ohe['Peer_Influence_Negative'] == 1]['Exam_Score']\n",
    "\n",
    "positive_lower, positive_upper = bootstrap_ci(grouped_data_positive)\n",
    "negative_lower, negative_upper = bootstrap_ci(grouped_data_negative)\n",
    "\n",
    "print(f\"Peer Influence Positive - 95% CI: [{positive_lower}, {positive_upper}]\")\n",
    "print(f\"Peer Influence Negative - 95% CI: [{negative_lower}, {negative_upper}]\")"
   ]
  },
  {
   "cell_type": "code",
   "execution_count": 42,
   "id": "ecf77338-5134-45ac-8767-fe75a59bc98d",
   "metadata": {},
   "outputs": [
    {
     "name": "stdout",
     "output_type": "stream",
     "text": [
      "                                       Correlation        P-Value\n",
      "Access_to_Resources_High                  1.000000            NaN\n",
      "Exam_Score                                0.143766   7.525969e-32\n",
      "School_Type_Private                       0.029798   1.543010e-02\n",
      "Family_Income_Low                         0.021740   7.722948e-02\n",
      "Motivation_Level_Medium                   0.016732   1.738726e-01\n",
      "Previous_Scores                           0.014023   2.544241e-01\n",
      "Parental_Education_Level_High School      0.012940   2.929552e-01\n",
      "Peer_Influence_Negative                   0.012519   3.089485e-01\n",
      "Parental_Involvement_Low                  0.011798   3.376332e-01\n",
      "Teacher_Quality_Low                       0.011718   3.409348e-01\n",
      "Distance_from_Home_Far                    0.009172   4.560397e-01\n",
      "Internet_Access_No                        0.008554   4.869583e-01\n",
      "Learning_Disabilities_No                  0.006200   6.143629e-01\n",
      "Gender_Female                             0.004084   7.399906e-01\n",
      "Hours_Studied                             0.002248   8.550544e-01\n",
      "Extracurricular_Activities_Yes            0.001908   8.767700e-01\n",
      "Family_Income_High                        0.001396   9.096522e-01\n",
      "Distance_from_Home_Moderate               0.001258   9.185944e-01\n",
      "Peer_Influence_Positive                   0.000294   9.809669e-01\n",
      "Teacher_Quality_High                     -0.000731   9.526407e-01\n",
      "Parental_Involvement_High                -0.001714   8.892098e-01\n",
      "Extracurricular_Activities_No            -0.001908   8.767700e-01\n",
      "Gender_Male                              -0.004084   7.399906e-01\n",
      "Parental_Education_Level_Postgraduate    -0.004233   7.308209e-01\n",
      "Sleep_Hours                              -0.004368   7.226158e-01\n",
      "Learning_Disabilities_Yes                -0.006200   6.143629e-01\n",
      "Attendance                               -0.006398   6.030643e-01\n",
      "Parental_Involvement_Medium              -0.007928   5.193960e-01\n",
      "Teacher_Quality_Medium                   -0.008269   5.015651e-01\n",
      "Internet_Access_Yes                      -0.008554   4.869583e-01\n",
      "Motivation_Level_Low                     -0.009455   4.422335e-01\n",
      "Distance_from_Home_Near                  -0.010093   4.120665e-01\n",
      "Motivation_Level_High                    -0.010159   4.090101e-01\n",
      "Parental_Education_Level_College         -0.010496   3.936446e-01\n",
      "Peer_Influence_Neutral                   -0.010709   3.841391e-01\n",
      "Tutoring_Sessions                        -0.012923   2.936029e-01\n",
      "Family_Income_Medium                     -0.022869   6.305790e-02\n",
      "Physical_Activity                        -0.029187   1.766824e-02\n",
      "School_Type_Public                       -0.029798   1.543010e-02\n",
      "Access_to_Resources_Low                  -0.325192  1.488940e-162\n",
      "Access_to_Resources_Medium               -0.656050   0.000000e+00\n"
     ]
    }
   ],
   "source": [
    "correlations = data_ohe.corrwith(data_ohe['Access_to_Resources_High'])\n",
    "\n",
    "p_values = data_ohe.drop(columns='Access_to_Resources_High').apply(\n",
    "    lambda col: pearsonr(data_ohe['Access_to_Resources_High'], col)[1]\n",
    ")\n",
    "\n",
    "# combine correlations and p-values into a single df\n",
    "results_df = pd.DataFrame({'Correlation': correlations, 'P-Value': p_values}).sort_values(by='Correlation', ascending=False)\n",
    "\n",
    "print(results_df)"
   ]
  },
  {
   "cell_type": "code",
   "execution_count": 43,
   "id": "51ef15bd-f818-4ff3-a78e-24596d45c4e7",
   "metadata": {},
   "outputs": [
    {
     "data": {
      "image/png": "[encoded data removed]",
      "text/plain": [
       "<Figure size 600x400 with 1 Axes>"
      ]
     },
     "metadata": {},
     "output_type": "display_data"
    }
   ],
   "source": [
    "resources_scores = {\n",
    "    'Access to Resources': ['High', 'Low'],\n",
    "    'Average Exam Score': [\n",
    "        data_ohe.loc[data_ohe['Access_to_Resources_High'] == 1, 'Exam_Score'].mean(),\n",
    "        data_ohe.loc[data_ohe['Access_to_Resources_Low'] == 1, 'Exam_Score'].mean()\n",
    "    ]\n",
    "}\n",
    "\n",
    "plot_data = pd.DataFrame(resources_scores)\n",
    "\n",
    "# Create barplot\n",
    "plt.figure(figsize=(6, 4))\n",
    "sns.barplot(x='Access to Resources', y='Average Exam Score', data=plot_data)\n",
    "\n",
    "# Customize the plot\n",
    "plt.title('Average Exam Score by Access to Resources', fontsize=13)\n",
    "plt.xlabel('Access to Resources', fontsize=12)\n",
    "plt.ylabel('Average Exam Score', fontsize=12)\n",
    "plt.xticks(fontsize=10)\n",
    "plt.yticks(fontsize=10)\n",
    "\n",
    "plt.show()"
   ]
  },
  {
   "cell_type": "code",
   "execution_count": 44,
   "id": "ad03c289-ef15-42cb-9315-7a869f4e55f2",
   "metadata": {},
   "outputs": [
    {
     "name": "stdout",
     "output_type": "stream",
     "text": [
      "   Access_to_Resources_High  Access_to_Resources_Low  Exam_Score\n",
      "0                     False                    False   67.134378\n",
      "1                     False                     True   66.203351\n",
      "2                      True                    False   68.092152\n"
     ]
    }
   ],
   "source": [
    "grouped_data = data_ohe.groupby(['Access_to_Resources_High', 'Access_to_Resources_Low'])['Exam_Score'].mean().reset_index()\n",
    "print(grouped_data)"
   ]
  },
  {
   "cell_type": "code",
   "execution_count": 45,
   "id": "ac67ad77-687d-422d-8c41-91763f3e01c7",
   "metadata": {},
   "outputs": [
    {
     "name": "stdout",
     "output_type": "stream",
     "text": [
      "Access to Resources High - 95% CI: [67.91997468354431, 68.26587341772152]\n",
      "Access to Resources Low - 95% CI: [66.02587585681646, 66.3990860624524]\n"
     ]
    }
   ],
   "source": [
    "# Calculating the 95% Confidence Interval\n",
    "\n",
    "grouped_data_high = data_ohe[data_ohe['Access_to_Resources_High'] == 1]['Exam_Score']\n",
    "grouped_data_low = data_ohe[data_ohe['Access_to_Resources_Low'] == 1]['Exam_Score']\n",
    "\n",
    "positive_lower, positive_upper = bootstrap_ci(grouped_data_high)\n",
    "negative_lower, negative_upper = bootstrap_ci(grouped_data_low)\n",
    "\n",
    "print(f\"Access to Resources High - 95% CI: [{positive_lower}, {positive_upper}]\")\n",
    "print(f\"Access to Resources Low - 95% CI: [{negative_lower}, {negative_upper}]\")"
   ]
  },
  {
   "cell_type": "code",
   "execution_count": 46,
   "id": "ac4c975a-a733-4f07-8548-ec126b814f38",
   "metadata": {},
   "outputs": [
    {
     "data": {
      "image/png": "[encoded data removed]",
      "text/plain": [
       "<Figure size 600x400 with 1 Axes>"
      ]
     },
     "metadata": {},
     "output_type": "display_data"
    }
   ],
   "source": [
    "school_type_scores = {\n",
    "    'School Type': ['Private', 'Public'],\n",
    "    'Average Exam Score': [\n",
    "        data_ohe.loc[data_ohe['School_Type_Private'] == 1, 'Exam_Score'].mean(),\n",
    "        data_ohe.loc[data_ohe['School_Type_Public'] == 1, 'Exam_Score'].mean()\n",
    "    ]\n",
    "}\n",
    "\n",
    "plot_data = pd.DataFrame(school_type_scores)\n",
    "\n",
    "# Create barplot\n",
    "plt.figure(figsize=(6, 4))\n",
    "sns.barplot(x='School Type', y='Average Exam Score', data=plot_data)\n",
    "\n",
    "# Customize the plot\n",
    "plt.title('Average Exam Score by School Type', fontsize=13)\n",
    "plt.xlabel('School Type', fontsize=12)\n",
    "plt.ylabel('Average Exam Score', fontsize=12)\n",
    "plt.xticks(fontsize=10)\n",
    "plt.yticks(fontsize=10)\n",
    "\n",
    "plt.show()"
   ]
  },
  {
   "cell_type": "code",
   "execution_count": 47,
   "id": "ded10bc8-86bc-4e14-b9dd-fc8279742ad3",
   "metadata": {},
   "outputs": [
    {
     "name": "stdout",
     "output_type": "stream",
     "text": [
      "   School_Type_Private  School_Type_Public  Exam_Score\n",
      "0                False                True   67.212919\n",
      "1                 True               False   67.287705\n"
     ]
    }
   ],
   "source": [
    "grouped_data = data_ohe.groupby(['School_Type_Private', 'School_Type_Public'])['Exam_Score'].mean().reset_index()\n",
    "print(grouped_data)"
   ]
  },
  {
   "cell_type": "code",
   "execution_count": 48,
   "id": "476cc8dd-45d4-43f4-bbe9-1d7cf2d242fc",
   "metadata": {},
   "outputs": [
    {
     "name": "stdout",
     "output_type": "stream",
     "text": [
      "School Type Private - 95% CI: [67.12543554006969, 67.45149328023892]\n",
      "School Type Public - 95% CI: [67.10285450195738, 67.3290724227925]\n"
     ]
    }
   ],
   "source": [
    "# Calculating the 95% Confidence Interval\n",
    "\n",
    "grouped_data_private = data_ohe[data_ohe['School_Type_Private'] == 1]['Exam_Score']\n",
    "grouped_data_public = data_ohe[data_ohe['School_Type_Public'] == 1]['Exam_Score']\n",
    "\n",
    "positive_lower, positive_upper = bootstrap_ci(grouped_data_private)\n",
    "negative_lower, negative_upper = bootstrap_ci(grouped_data_public)\n",
    "\n",
    "print(f\"School Type Private - 95% CI: [{positive_lower}, {positive_upper}]\")\n",
    "print(f\"School Type Public - 95% CI: [{negative_lower}, {negative_upper}]\")"
   ]
  },
  {
   "cell_type": "code",
   "execution_count": null,
   "id": "0e169c82-d2e1-4881-906d-af94b041d714",
   "metadata": {},
   "outputs": [],
   "source": []
  }
 ],
 "metadata": {
  "kernelspec": {
   "display_name": "Python 3 (ipykernel)",
   "language": "python",
   "name": "python3"
  },
  "language_info": {
   "codemirror_mode": {
    "name": "ipython",
    "version": 3
   },
   "file_extension": ".py",
   "mimetype": "text/x-python",
   "name": "python",
   "nbconvert_exporter": "python",
   "pygments_lexer": "ipython3",
   "version": "3.11.7"
  }
 },
 "nbformat": 4,
 "nbformat_minor": 5
}
