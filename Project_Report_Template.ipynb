{
 "cells": [
  {
   "cell_type": "raw",
   "id": "33dd6c4c",
   "metadata": {},
   "source": [
    "---\n",
    "title: ENTER YOUR TITLE HERE\n",
    "subtitle: Project Report for STAT 303-1 Fall 2024\n",
    "author: ENTER YOUR NAMES HERE\n",
    "date: ENTER DATE HERE\n",
    "abstract: _The abstract is to be a brief, italicized text at the top of the report, below the author information. The abstract section must summarize the findings of the analysis in the report, and the recommendations to the stakeholders based on the analysis. You may also briefly mention any relevant results. The abstract should not be more than 200 words in length (0.5 points)_.\n",
    "format: \n",
    "  html:\n",
    "    toc: true\n",
    "    toc-title: Contents\n",
    "    code-fold: true\n",
    "    embed-resources: true\n",
    "    font-size: 100%\n",
    "    toc-depth: 4\n",
    "    mainfont: serif\n",
    "jupyter: python3\n",
    "---"
   ]
  },
  {
   "cell_type": "markdown",
   "id": "186dcc6d",
   "metadata": {
    "jp-MarkdownHeadingCollapsed": true
   },
   "source": [
    "**First of all, note that the report (as an HTML) should not include any code. Your team's code should be included separately in the code template.**\n",
    "\n",
    "Your report should read like a professional paper that you would publish for a research project or an internship/job. If there is something in the report that can only be explained by showing some code, then you may put the code in the appendix and refer to it. Other than that, all your code will be checked in the code template. \n",
    "\n",
    "To include figures that are produced by some code and hide the code itself, you need to use the cell settings as shown in a brief example in the Data Analysis section.\n",
    "\n",
    "**This cell is only informational and should not be kept in the report; you need to delete it while preparing the report using the template.** "
   ]
  },
  {
   "cell_type": "markdown",
   "id": "e8a6e080-8711-418d-92c9-391bb03f8192",
   "metadata": {},
   "source": [
    "**Rules for Formatting:** \n",
    "\n",
    "- Everything required in the header cell should be properly entered.\n",
    "- No code should be present in the report (as an HTML).\n",
    "- All the sections included below this cell should be present in the report (except for References and Appendix, if not used).\n",
    "- The indicated cells (including this one) should be deleted from the final report.\n",
    "- The description for each section below this cell should also be deleted from the final report.\n",
    "- No irrelevant text/output/figure should be present in the report.\n",
    "- **0.5 points (out of 15) will be taken off (individually, if necessary) PER formatting rule that is not followed.**\n",
    "\n",
    "**Language:** The language of the report should be professional and always consider both the technical and the real-life aspects of your analysis and results. **If the language is found inadequate, 1 point will be taken off (individually, if necessary).** You can check with your instructor if you have any questions.\n",
    "\n",
    "**This cell is only informational and should not be kept in the report; you need to delete it while preparing the report using the template.** "
   ]
  },
  {
   "cell_type": "markdown",
   "id": "0116f49b",
   "metadata": {},
   "source": [
    "## 1) Inspiration\n",
    "\n",
    "Include the reason for your choice of data here. Why is it interesting to you? Why do you think it is worth exploring for this project? Include any motivations or background that you believe is relevant. **(0.5 points)**"
   ]
  },
  {
   "cell_type": "markdown",
   "id": "84ff1421",
   "metadata": {},
   "source": [
    "## 2) Problem Statements \n",
    "\n",
    "Include all of the questions your team answers here. **(0.5 points)**"
   ]
  },
  {
   "cell_type": "markdown",
   "id": "38c7b95f",
   "metadata": {},
   "source": [
    "## 3) Data\n",
    "\n",
    "- Identify and describe your data source(s). Include the links/citations, so the readers can access the data.\n",
    "- Describe **(no code or code output here)** the following:\n",
    "    - How many observations and variables does the dataset have?\n",
    "    - What does each observation and variable represent?\n",
    "    - How many variables are numeric and how many variables are categorical?\n",
    "    - How many variables are used for all of the analysis in this report?\n",
    "\n",
    "**(1 point)**"
   ]
  },
  {
   "cell_type": "markdown",
   "id": "8c255035",
   "metadata": {},
   "source": [
    "## 4) Stakeholders\n",
    "\n",
    "Who would be the stakeholders of this project; i.e. who would be interested in hearing your results and how would the results benefit them? **(0.5 points)**"
   ]
  },
  {
   "cell_type": "markdown",
   "id": "fe7ea9bb",
   "metadata": {},
   "source": [
    "## 5) Data Cleaning \n",
    "\n",
    "Each team member should describe **(no code or code output here)** the following aspects about the data \"quality\" regarding their analysis:\n",
    "\n",
    "- How many missing values are there in the variables used for the analysis?\n",
    "- How are the missing values imputed for each variable? Why that method? (Your reasoning should make sense.)\n",
    "- Are there any outliers present in the numeric variables? If yes, how many?\n",
    "- Did you keep or exclude the outliers? Why or why not?\n",
    "- How many categories are there in the categorical variables?\n",
    "- Are there categories that are not useful; e.g. a category that has just a few observations, a category that is irrelevant for the analysis, etc.? How do you handle these categories?\n",
    "- Are there any incorrect values; e.g. a negative age, zero weight, etc., in the variables used for the analysis? If yes, how do you handle those values?\n",
    "\n",
    "If there is anything you would like to add about cleaning your dataset that is not covered above, feel free to add it to this section.\n",
    "\n",
    "**(2 points - Graded Individually)**"
   ]
  },
  {
   "cell_type": "markdown",
   "id": "faefc982-b4e0-43c8-b61d-e8b3dd7825ee",
   "metadata": {},
   "source": [
    "### a) Cleaning 1\n",
    "*By \\<Name of team member>*"
   ]
  },
  {
   "cell_type": "markdown",
   "id": "2098fb9c-0ef6-4463-994f-abd9ca865dc8",
   "metadata": {},
   "source": [
    "### b) Cleaning 2\n",
    "*By \\<Name of team member>*"
   ]
  },
  {
   "cell_type": "markdown",
   "id": "3874e1b4-637c-4ffc-a2b5-7e6983e08ca3",
   "metadata": {},
   "source": [
    "### c) Cleaning 3\n",
    "*By \\<Name of team member>*"
   ]
  },
  {
   "cell_type": "markdown",
   "id": "5d654f24-d236-48b8-88fc-f04dae6846f1",
   "metadata": {},
   "source": [
    "### d) Cleaning 4\n",
    "*By \\<Name of team member>*"
   ]
  },
  {
   "cell_type": "markdown",
   "id": "d39c782c",
   "metadata": {},
   "source": [
    "## 6) Data Analysis\n",
    "\n",
    "This is the section for the results and their analysis/discussion. Each team member's analysis should include the following aspects:\n",
    "\n",
    "- **The Methodology:** This should include all the reshaping/wrangling/grouping/aggregation tools covered during the quarter and anything else that may be useful. Each step towards the results should be articulated and **the reasoning behind each step should be explained**.\n",
    "- **Visual Results:** Each question should be answered with **at least** two figures. Note the following:\n",
    "    - A figure with multiple subplots is still one figure.\n",
    "    - Something that makes sense as a figure with subplots should be included as such. For example, if you are creating two box plots for \"Yes\" and \"No\" categories, they should be subplots (or on the same plot). Separating them into two figures to meet the requirement will not be accepted.\n",
    "    - Each figure should explain something different about the analysis. For example, visualizing the same (or similar) information once as a bar plot and once as a line plot will not be accepted.\n",
    "    - Each figure should look as clean, readable and professional as possible. The axis labels and the axis ticks should make sense and be formatted to include the important details, such as units, currencies, order of magnitude, etc. There should be a relevant title for each figure. There should be color-coding and legends included, if necessary.\n",
    "- **Numeric Results:** Each figure should be supported by the corresponding numeric results as well.\n",
    "    - Some relevant examples would be: The mean/median/count (and their 95% Confidence Interval, if applicable) that each bar represents for a bar plot, quartiles and the number of outliers for a box plot, x and y coordinates of some important data points for a line/scatter plot, actual correlations for a heatmap, etc.\n",
    "    - The numbers can either be presented as a tabular output by the corresponding figure or they can be put on the figure (as long as doing so does not affect readability).\n",
    "- **Actual Answer to the Question:** Using all the figures and numbers you produced, answer your question. Your answer should cover both the technical/scientific concepts included in your analysis and the real-life implications of your results.  \n",
    "\n",
    "**IMPORTANT:** For the visual and numeric results, you need to write code in this report. However, it should be hidden by using the formatting setting `#|echo: false`, as given in the short example cell below. You can render the ipynb file to see that the code below produces a plot, but the code itself is not included in the HTML file.\n",
    "\n",
    "**(8 points - Graded Individually)**"
   ]
  },
  {
   "cell_type": "code",
   "execution_count": 1,
   "id": "2e36b1d2",
   "metadata": {},
   "outputs": [
    {
     "data": {
      "image/png": "[encoded data removed]",
      "text/plain": [
       "<Figure size 400x200 with 1 Axes>"
      ]
     },
     "metadata": {},
     "output_type": "display_data"
    }
   ],
   "source": [
    "#| echo: false\n",
    "import matplotlib.pyplot as plt\n",
    "plt.figure(figsize=(4,2))\n",
    "plt.plot(range(10));"
   ]
  },
  {
   "cell_type": "markdown",
   "id": "863e3664",
   "metadata": {},
   "source": [
    "### a) Analysis 1\n",
    "*By \\<Name of team member>*"
   ]
  },
  {
   "cell_type": "markdown",
   "id": "10232a2d-8b57-4b01-8987-7d9533942620",
   "metadata": {},
   "source": [
    "### b) Analysis 2\n",
    "*By \\<Name of team member>*"
   ]
  },
  {
   "cell_type": "markdown",
   "id": "8b8b85cd-c926-4273-b1c2-c9493d944d82",
   "metadata": {},
   "source": [
    "### c) Analysis 3\n",
    "*By \\<Name of team member>*"
   ]
  },
  {
   "cell_type": "markdown",
   "id": "5fc61529-aba7-4f71-9e90-db0aeac8b587",
   "metadata": {},
   "source": [
    "### d) Analysis 4\n",
    "*By \\<Name of team member>*"
   ]
  },
  {
   "cell_type": "markdown",
   "id": "57e41b2a",
   "metadata": {},
   "source": [
    "## 7) Recommendations to Stakeholders\n",
    "\n",
    "Each team member should describe the following points:\n",
    "\n",
    "- What are the main action items for the stakeholders based on your analysis?\n",
    "- What are the limitations  of your analysis that the stakeholders need to be aware of? (\"No limitations\" is not an acceptable response here. Every real-life analysis has its limitations/shortcomings.)\n",
    "- What can be done to overcome those limitations? (Some further analysis, a particular type of additional data, repeating the analysis in a certain way, etc.)\n",
    "\n",
    "**(1 point - Graded Individually)**"
   ]
  },
  {
   "cell_type": "markdown",
   "id": "9c6f8d2d-45bb-4490-91f0-c9bd5afee05a",
   "metadata": {},
   "source": [
    "### a) Recommendations 1\n",
    "*By \\<Name of team member>*"
   ]
  },
  {
   "cell_type": "markdown",
   "id": "9cd9727f-8200-41d2-92af-3aad2f533e15",
   "metadata": {},
   "source": [
    "### b) Recommendations 2\n",
    "*By \\<Name of team member>*"
   ]
  },
  {
   "cell_type": "markdown",
   "id": "52361ab7-f689-4356-8bc9-77c1e331f1ef",
   "metadata": {},
   "source": [
    "### c) Recommendations 3\n",
    "*By \\<Name of team member>*"
   ]
  },
  {
   "cell_type": "markdown",
   "id": "257e6f85-0d88-4e00-9842-5745fc1deb5e",
   "metadata": {},
   "source": [
    "### d) Recommendations 4\n",
    "*By \\<Name of team member>*"
   ]
  },
  {
   "cell_type": "markdown",
   "id": "62a185cb",
   "metadata": {},
   "source": [
    "## 8) Conclusion\n",
    "\n",
    "Connect the individual analyses and results/recommendations with a conclusion that encompasses all of them.\n",
    "\n",
    "**This should NOT simply be all individual content summarized one after another**. The overall conclusion should include some insight that, while not available when the individual content is read piece by piece, is revealed when the full team effort comes together as a whole.\n",
    "\n",
    "**(1 point)**"
   ]
  },
  {
   "cell_type": "markdown",
   "id": "00b1cafe",
   "metadata": {},
   "source": [
    "## References"
   ]
  },
  {
   "cell_type": "markdown",
   "id": "ebdb1aad",
   "metadata": {},
   "source": [
    "If you use any bibliographical references in your report, cite them in the text and list the references here. When cited in the text, enclose the citation number in square brackets, for example: [1]. See sample reference below.\n",
    "\n",
    "[1] Authors. The frobnicatable foo filter, 2014. Face and Gesture submission ID 324. Supplied as additional material\n",
    "fg324.pdf. 3\n",
    "\n",
    "**If you do not have any references, remove this section.**"
   ]
  },
  {
   "cell_type": "markdown",
   "id": "5831751c",
   "metadata": {},
   "source": [
    "## Appendix"
   ]
  },
  {
   "cell_type": "markdown",
   "id": "d13d374d",
   "metadata": {},
   "source": [
    "If there is any supporting/additional material that should not be in the main report, but still carries some relevance while reading the report, you may include it here. **If you do not have any such material, remove this section.**"
   ]
  }
 ],
 "metadata": {
  "kernelspec": {
   "display_name": "Python 3 (ipykernel)",
   "language": "python",
   "name": "python3"
  },
  "language_info": {
   "codemirror_mode": {
    "name": "ipython",
    "version": 3
   },
   "file_extension": ".py",
   "mimetype": "text/x-python",
   "name": "python",
   "nbconvert_exporter": "python",
   "pygments_lexer": "ipython3",
   "version": "3.12.4"
  }
 },
 "nbformat": 4,
 "nbformat_minor": 5
}
